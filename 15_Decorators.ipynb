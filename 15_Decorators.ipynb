{
 "cells": [
  {
   "cell_type": "markdown",
   "id": "75984772",
   "metadata": {},
   "source": [
    "# 🎩 Python Decorators – Challenge Notebook\n",
    "Practice writing and applying decorators in real-world scenarios like logging, timing, and access control.\n",
    "Try the problems first, then check your solutions using the dropdowns!"
   ]
  },
  {
   "cell_type": "markdown",
   "id": "f3eef216",
   "metadata": {},
   "source": [
    "## 🧠 1. First-Class Functions"
   ]
  },
  {
   "cell_type": "code",
   "execution_count": null,
   "id": "4b2d0ac9",
   "metadata": {},
   "outputs": [],
   "source": [
    "# 🎯 Challenge: Pass a function as an argument and modify its output\n",
    "def greet(name):\n",
    "    return f\"Hi {name}\"\n",
    "\n",
    "def shout(func):\n",
    "    # Your code here\n",
    "    pass\n",
    "\n",
    "# Try it\n",
    "# print(shout(greet)(\"Aarya\"))"
   ]
  },
  {
   "cell_type": "markdown",
   "id": "31aa400f",
   "metadata": {},
   "source": [
    "<details><summary>✅ Show Answer</summary>\n",
    "\n",
    "```python\n",
    "def shout(func):\n",
    "    def wrapper(name):\n",
    "        return func(name).upper()\n",
    "    return wrapper\n",
    "\n",
    "shouted = shout(greet)\n",
    "print(shouted(\"Aarya\"))\n",
    "```\n",
    "</details>"
   ]
  },
  {
   "cell_type": "markdown",
   "id": "eb53f7a7",
   "metadata": {},
   "source": [
    "## 🧩 2. Writing a Basic Decorator"
   ]
  },
  {
   "cell_type": "code",
   "execution_count": null,
   "id": "4e9a343e",
   "metadata": {},
   "outputs": [],
   "source": [
    "# 🎯 Challenge: Write a decorator that prints 'Before' and 'After' around the function call\n",
    "def log_decorator(func):\n",
    "    # Your code here\n",
    "    pass\n",
    "\n",
    "@log_decorator\n",
    "def say_hello():\n",
    "    print(\"Hello!\")\n",
    "\n",
    "# Try it\n",
    "# say_hello()"
   ]
  },
  {
   "cell_type": "markdown",
   "id": "b1ba0bfd",
   "metadata": {},
   "source": [
    "<details><summary>✅ Show Answer</summary>\n",
    "\n",
    "```python\n",
    "def log_decorator(func):\n",
    "    def wrapper(*args, **kwargs):\n",
    "        print(\"Before\")\n",
    "        result = func(*args, **kwargs)\n",
    "        print(\"After\")\n",
    "        return result\n",
    "    return wrapper\n",
    "```\n",
    "</details>"
   ]
  },
  {
   "cell_type": "markdown",
   "id": "fdf77884",
   "metadata": {},
   "source": [
    "## 🧩 3. Decorators with *args and **kwargs"
   ]
  },
  {
   "cell_type": "code",
   "execution_count": null,
   "id": "3e955671",
   "metadata": {},
   "outputs": [],
   "source": [
    "# 🎯 Challenge: Modify decorator to support any number of arguments\n",
    "def debug_decorator(func):\n",
    "    # Your code here\n",
    "    pass\n",
    "\n",
    "@debug_decorator\n",
    "def add(x, y):\n",
    "    return x + y\n",
    "\n",
    "# Try it\n",
    "# add(5, 7)"
   ]
  },
  {
   "cell_type": "markdown",
   "id": "e661644e",
   "metadata": {},
   "source": [
    "<details><summary>✅ Show Answer</summary>\n",
    "\n",
    "```python\n",
    "def debug_decorator(func):\n",
    "    def wrapper(*args, **kwargs):\n",
    "        print(f\"Calling {func.__name__} with {args} and {kwargs}\")\n",
    "        return func(*args, **kwargs)\n",
    "    return wrapper\n",
    "```\n",
    "</details>"
   ]
  },
  {
   "cell_type": "markdown",
   "id": "b3ea826c",
   "metadata": {},
   "source": [
    "## 🧱 4. Stacked Decorators"
   ]
  },
  {
   "cell_type": "code",
   "execution_count": null,
   "id": "1da18f77",
   "metadata": {},
   "outputs": [],
   "source": [
    "# 🎯 Challenge: Use two decorators and observe order\n",
    "def deco1(func):\n",
    "    def wrapper(*args, **kwargs):\n",
    "        print(\"[deco1]\")\n",
    "        return func(*args, **kwargs)\n",
    "    return wrapper\n",
    "\n",
    "def deco2(func):\n",
    "    def wrapper(*args, **kwargs):\n",
    "        print(\"[deco2]\")\n",
    "        return func(*args, **kwargs)\n",
    "    return wrapper\n",
    "\n",
    "@deco1\n",
    "@deco2\n",
    "def say_hi():\n",
    "    print(\"Hi!\")\n",
    "\n",
    "# Try it\n",
    "# say_hi()"
   ]
  },
  {
   "cell_type": "markdown",
   "id": "d99a6e35",
   "metadata": {},
   "source": [
    "<details><summary>✅ Show Answer</summary>\n",
    "\n",
    "```python\n",
    "# Output order:\n",
    "# [deco1]\n",
    "# [deco2]\n",
    "# Hi!\n",
    "```\n",
    "</details>"
   ]
  },
  {
   "cell_type": "markdown",
   "id": "3b08b823",
   "metadata": {},
   "source": [
    "## ⏱️ 5. Timing Decorator"
   ]
  },
  {
   "cell_type": "code",
   "execution_count": null,
   "id": "5ad0028f",
   "metadata": {},
   "outputs": [],
   "source": [
    "# 🎯 Challenge: Create a decorator to measure time taken\n",
    "import time\n",
    "def timer(func):\n",
    "    # Your code here\n",
    "    pass\n",
    "\n",
    "@timer\n",
    "def wait_and_print():\n",
    "    time.sleep(1)\n",
    "    print(\"Done!\")\n",
    "\n",
    "# Try it\n",
    "# wait_and_print()"
   ]
  },
  {
   "cell_type": "markdown",
   "id": "b70666e5",
   "metadata": {},
   "source": [
    "<details><summary>✅ Show Answer</summary>\n",
    "\n",
    "```python\n",
    "def timer(func):\n",
    "    def wrapper(*args, **kwargs):\n",
    "        start = time.time()\n",
    "        result = func(*args, **kwargs)\n",
    "        end = time.time()\n",
    "        print(f\"⏱️ Took {end - start:.2f} seconds\")\n",
    "        return result\n",
    "    return wrapper\n",
    "```\n",
    "</details>"
   ]
  },
  {
   "cell_type": "markdown",
   "id": "50d21978",
   "metadata": {},
   "source": [
    "## 🏁 Final Boss: Logging + Timing Decorators Combined"
   ]
  },
  {
   "cell_type": "code",
   "execution_count": null,
   "id": "185f2c60",
   "metadata": {},
   "outputs": [],
   "source": [
    "# 🎯 Challenge: Combine logging and timing using stacked decorators\n",
    "def log_call(func):\n",
    "    def wrapper(*args, **kwargs):\n",
    "        print(f\"Calling {func.__name__}...\")\n",
    "        return func(*args, **kwargs)\n",
    "    return wrapper\n",
    "\n",
    "# Reuse timer from earlier\n",
    "# Apply both decorators to a sample function"
   ]
  }
 ],
 "metadata": {},
 "nbformat": 4,
 "nbformat_minor": 5
}
